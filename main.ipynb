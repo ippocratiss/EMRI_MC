{
 "cells": [
  {
   "cell_type": "code",
   "execution_count": null,
   "id": "c1a11c8e-dfb7-4322-9e4e-2443f3ccefaa",
   "metadata": {
    "tags": []
   },
   "outputs": [],
   "source": [
    "#!/usr/bin/env python\n",
    "# -*- coding: utf-8 -*-\n",
    "####################################################################################\n",
    "# This is the main file to execute for the GPU run/save of the MCMC chain.\n",
    "# Plotting options of the MCMC results at end of this notebook.\n",
    "# Make sure the definitions in the other modules are correct. \n",
    "####################################################################################\n",
    "import matplotlib.pyplot as plt\n",
    "import cupy\n",
    "from global_parameters import *  # Import physical constants, and other fixed quantities. \n",
    "from waveform import *  # Import GW equations and other functions. \n",
    "\n",
    "# We first compute the fiducial waveform model. Around it we perform the MCMC.\n",
    "# x0: Vector with initial conditions at LSO for integration at given set of parameters.\n",
    "# p0: Vector with fiducial parameters (mass, spin etc.).\n",
    "# The values of x0, p0 are defined in global_parameters.py\". \n",
    "# If more parameters are added both \"global_parameters.py\" and \"waveform.py\" need to be modified.\n",
    "\n",
    "print(color.BLACK + 'fiducial parameters:  ' + color.END + str(parameter_names) + ' ' + ' = ' + str(p0))\n",
    "fiducial_model = compute_fiducial(x0,p0)\n",
    "print('Parameters: ' 'M = ', M0, ' ', 'μ =',  μ0, ' ', 'spin =', spin0, ' ', 'e_LSO =', e_LSO, ' ', 'νLSO =', nu_LSO)\n",
    "print(color.GREEN + 'fiducial model computed' + color.END)"
   ]
  },
  {
   "cell_type": "markdown",
   "id": "ecb672f6-1556-4b4c-8197-0a6de7f76524",
   "metadata": {
    "tags": []
   },
   "source": [
    "### Plot the fiducial waveform, shortly before the plunge "
   ]
  },
  {
   "cell_type": "code",
   "execution_count": null,
   "id": "261f1fcf-ef71-4cb4-be12-386f1679cc2c",
   "metadata": {},
   "outputs": [],
   "source": [
    "t_grid=cupy.float32(fiducial_model[0][0].get())\n",
    "WF_grid=cupy.float32(fiducial_model[0][1].get())\n",
    "hours = 1\n",
    "#D      = 3.085678*10**(27)   #1Gpc\n",
    "plot_waveform(t_grid, WF_grid, hours)\n",
    "print('Parameters: ' 'M = ', M0, ' ', 'μ =',  μ0, ' ', 'spin =', spin0, ' ', 'e_LSO =', e_LSO, ' ', 'νLSO =', nu_LSO)\n",
    "#plt.savefig('/home/oliveri/spin0.8_eLSO0.6.pdf', format='pdf', dpi=1200)"
   ]
  },
  {
   "cell_type": "markdown",
   "id": "9b356acc-6f9a-4172-bd6c-f3880c6c4e1b",
   "metadata": {},
   "source": [
    "### Start the MCMC run\n",
    "\n",
    "Things to be checked in the cell below (all others are set through the module .py files.)\n",
    "\n",
    "-- Make sure the 'filename' where results will be stored is set up correctly.\n",
    "\n",
    "-- Make sure the vector $p\\_init\\_MC$ with the initialisation range of the walkers is set up to meaningful values.\n",
    "\n"
   ]
  },
  {
   "cell_type": "code",
   "execution_count": null,
   "id": "3e5b3175-79d5-4cc0-baf9-5c94a7950348",
   "metadata": {
    "tags": []
   },
   "outputs": [],
   "source": [
    "# The MCMC parameters (steps, walkers, etc) are defined in \"global_parameters.py\"\n",
    "from mcmc import * \n",
    "import os\n",
    "\n",
    "# Set up the backend to save the result of the MCMC in a txt file. File path needs adjustment.\n",
    "# It will delete the file in case the file already exists before each MCMC run.\n",
    "filename = \"/home/oliveri/MCMC.txt\"\n",
    "\n",
    "if os.path.isfile(filename)==True: \n",
    "    os.remove(filename)\n",
    "    print(color.RED + 'previous MCMC data file removed' + color.END)\n",
    "    print(color.BOLD + 'data saved at: ' + filename + color.END)\n",
    "    print(color.BLACK +'starting MCMC run .. '+  color.END)\n",
    "backend = emcee.backends.HDFBackend(filename)\n",
    "#backend.reset(Nwalker, Ndim)\n",
    "########### \n",
    "\n",
    "# This is the vector defining the initial parameters for the walkers of the MCMC run.\n",
    "# The value of each parameter is its fiducial value plus some small Gaussian noise.\n",
    "# The dimension of p_init_MC must be equal to the number of walkers Nwalker.\n",
    "# p_init_MC needs be modified for different set of parameters.\n",
    "p_init_MC = np.random.randn(Nwalker, Ndim)*[1, 1*(10**-5), 2*(10**-6),1*(10**-5)] + [M0, μ0, spin0,Xi0]\n",
    "########### \n",
    "\n",
    "# Use these for not-parallelised walkers. This makes the MCMC run slower.\n",
    "#sampler = emcee.EnsembleSampler(Nwalker, Ndim, lnprob, backend=backend)\n",
    "#pos, prob, state = sampler.run_mcmc(p_init_MC, Nsteps, progress=True)\n",
    "\n",
    "multiprocessing.set_start_method('spawn', force=True) \n",
    "from multiprocessing import set_start_method\n",
    "if __name__ == \"__main__\":\n",
    "    multiprocessing.set_start_method('spawn', force=True)\n",
    "    with Pool(processes= Nwalker) as pool:\n",
    "        sampler = emcee.EnsembleSampler(Nwalker, Ndim, lnprob, backend=backend, pool = pool)\n",
    "        pos, prob, state = sampler.run_mcmc(p_init_MC, Nsteps, progress=True)               "
   ]
  },
  {
   "cell_type": "markdown",
   "id": "5de6211a-671a-47c5-8309-74663c2e05be",
   "metadata": {},
   "source": [
    "### Plot the MCMC results\n",
    "\n",
    "This plots the MCMC results (corner plot, histograms, etc.).\n",
    "\n",
    "-- Make sure the 'filename' with the results to be loaded is set up correctly.\n",
    "\n",
    "-- Make sure the burnout option ('burn') is chosen appropriately.\n"
   ]
  },
  {
   "cell_type": "code",
   "execution_count": null,
   "id": "82af8904-a780-4078-8b0b-e4666375cfdc",
   "metadata": {},
   "outputs": [],
   "source": [
    "import pandas as pd\n",
    "import seaborn as sns\n",
    "import numpy as np\n",
    "import emcee\n",
    "\n",
    "# Read the txt file generated above. As an example, we provide a txt file MCMC_Xi0=1 to generate a corner plot.\n",
    "filename = \"/home/oliveri/MCMC_Xi0=1.txt\"\n",
    "\n",
    "burn = 500\n",
    "reader = emcee.backends.HDFBackend(filename, read_only=True)\n",
    "samples = reader.get_chain(flat=True, discard=burn)\n",
    "\n",
    "dsb = np.array([samples[:,0],samples[:,1],samples[:,2],samples[:,3]])\n",
    "df = pd.DataFrame(dsb.T,columns = [r'$M$', r'$\\mu$',  r'$\\frac{S}{M^2}$',  r'$\\Xi$'])\n",
    "\n",
    "plt.figure()\n",
    "#with plt.style.context({'axes.labelsize':20}):\n",
    "g = sns.PairGrid(df, diag_sharey=True,corner=True)\n",
    "g.map_lower(sns.scatterplot, alpha=1, edgecolor='none', s = 0.09, color = 'tomato')\n",
    "g.map_diag(sns.histplot,  element=\"step\", color = 'blanchedalmond')\n",
    "plt.savefig('/home/oliveri/corner_plot.png', format='png')"
   ]
  },
  {
   "cell_type": "code",
   "execution_count": null,
   "id": "d0de5a5c-5db7-4a07-8c99-39c0801950c7",
   "metadata": {},
   "outputs": [],
   "source": [
    "from IPython.display import display, Math\n",
    "\n",
    "labels = parameter_names\n",
    "for i in range(len(labels)):\n",
    "    mcmc = np.percentile(samples[:, i], [50, 80, 90])\n",
    "    q = np.diff(mcmc)\n",
    "    txt = \"\\mathrm{{{3}}} = {0:.7f}_{{-{1:.7f}}}^{{+{2:.7f}}}\"\n",
    "    txt = txt.format(mcmc[1], q[0], q[1], labels[i])\n",
    "    display(Math(txt))"
   ]
  }
 ],
 "metadata": {
  "kernelspec": {
   "display_name": "Python 3 (ipykernel)",
   "language": "python",
   "name": "python3"
  },
  "language_info": {
   "codemirror_mode": {
    "name": "ipython",
    "version": 3
   },
   "file_extension": ".py",
   "mimetype": "text/x-python",
   "name": "python",
   "nbconvert_exporter": "python",
   "pygments_lexer": "ipython3",
   "version": "3.10.4"
  }
 },
 "nbformat": 4,
 "nbformat_minor": 5
}
